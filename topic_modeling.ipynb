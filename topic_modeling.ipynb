{
  "nbformat": 4,
  "nbformat_minor": 0,
  "metadata": {
    "colab": {
      "provenance": []
    },
    "kernelspec": {
      "name": "python3",
      "display_name": "Python 3"
    },
    "language_info": {
      "name": "python"
    }
  },
  "cells": [
    {
      "cell_type": "code",
      "source": [
        "import gensim\n",
        "from gensim import corpora\n",
        "from gensim.models import LdaModel\n",
        "import re\n",
        "\n",
        "docu = ['The D-Day landings, also known as Operation Overlord, took place on June 6, 1944, and marked a pivotal moment in World War II. Allied forces launched one of the largest amphibious military assaults in history on the beaches of Normandy, France, aiming to liberate Western Europe from Nazi occupation. Approximately 156,000 troops, including American, British, Canadian, and various other Allied forces, landed on five beachheads: Utah, Omaha, Gold, Juno, and Sword. The operation involved extensive planning, with deceptive tactics employed to mislead German forces about the invasions timing and location.']\n",
        "\n",
        "def preprocess(text):\n",
        "    text = re.sub(r'\\W', ' ', text)\n",
        "    text = text.lower()\n",
        "    tokens = text.split()\n",
        "    return tokens\n",
        "\n",
        "processed_docs = [preprocess(doc) for doc in docu]\n",
        "\n",
        "dictionary = corpora.Dictionary(processed_docs)\n",
        "\n",
        "corpus = [dictionary.doc2bow(doc) for doc in processed_docs]\n",
        "\n",
        "num_topics = 2\n",
        "passes = 10\n",
        "\n",
        "model = LdaModel(corpus, num_topics=num_topics, id2word=dictionary, passes=passes)\n",
        "\n",
        "print(\"Topics discovered by LDA:\")\n",
        "for idx, topic in model.print_topics(-1):\n",
        "    print(f\"Topic : {topic}\")\n"
      ],
      "metadata": {
        "colab": {
          "base_uri": "https://localhost:8080/"
        },
        "id": "ZoGuD9HQ8M_U",
        "outputId": "cf2bf793-c543-4f37-80d2-40fac7e185f1"
      },
      "execution_count": 13,
      "outputs": [
        {
          "output_type": "stream",
          "name": "stdout",
          "text": [
            "Topics discovered by LDA:\n",
            "Topic : 0.014*\"the\" + 0.013*\"on\" + 0.013*\"forces\" + 0.013*\"and\" + 0.013*\"in\" + 0.013*\"to\" + 0.013*\"of\" + 0.013*\"operation\" + 0.013*\"allied\" + 0.013*\"moment\"\n",
            "Topic : 0.042*\"the\" + 0.035*\"and\" + 0.027*\"forces\" + 0.027*\"on\" + 0.019*\"allied\" + 0.019*\"operation\" + 0.019*\"of\" + 0.019*\"to\" + 0.019*\"in\" + 0.012*\"one\"\n"
          ]
        }
      ]
    }
  ]
}